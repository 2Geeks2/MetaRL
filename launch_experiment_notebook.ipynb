{
  "cells": [
    {
      "cell_type": "markdown",
      "metadata": {
        "id": "view-in-github",
        "colab_type": "text"
      },
      "source": [
        "<a href=\"https://colab.research.google.com/github/2Geeks2/MetaRL/blob/master/launch_experiment_notebook.ipynb\" target=\"_parent\"><img src=\"https://colab.research.google.com/assets/colab-badge.svg\" alt=\"Open In Colab\"/></a>"
      ]
    },
    {
      "cell_type": "markdown",
      "metadata": {
        "id": "KFyZrmwclgFb"
      },
      "source": [
        "# Run MuJoCo\n",
        "\n",
        "Click on the badge below to open this notebook in Google Colaboratory"
      ]
    },
    {
      "cell_type": "code",
      "source": [
        "from google.colab import drive\n",
        "drive.mount('/content/drive')"
      ],
      "metadata": {
        "id": "8Z9N6IHiliUn",
        "outputId": "2e5af1fd-5ee4-4f66-88c6-5c60490de61b",
        "colab": {
          "base_uri": "https://localhost:8080/"
        }
      },
      "execution_count": null,
      "outputs": [
        {
          "output_type": "stream",
          "name": "stdout",
          "text": [
            "Drive already mounted at /content/drive; to attempt to forcibly remount, call drive.mount(\"/content/drive\", force_remount=True).\n"
          ]
        }
      ]
    },
    {
      "cell_type": "markdown",
      "metadata": {
        "id": "sJRIf5pSlgFh"
      },
      "source": [
        "[![Colab](https://colab.research.google.com/assets/colab-badge.svg)](https://colab.research.google.com/github/2Geeks2/MetaRL/blob/master/launch_experiment_notebook.ipynb)"
      ]
    },
    {
      "cell_type": "markdown",
      "metadata": {
        "id": "DxwACN15lgFk"
      },
      "source": [
        "## Install MuJoCo"
      ]
    },
    {
      "cell_type": "code",
      "execution_count": null,
      "metadata": {
        "colab": {
          "base_uri": "https://localhost:8080/"
        },
        "id": "74FNy1D5WYih",
        "outputId": "b0a372a7-f6a2-4254-fad5-0f3ea0cb65b8"
      },
      "outputs": [
        {
          "output_type": "stream",
          "name": "stdout",
          "text": [
            "Requirement already satisfied: free-mujoco-py in /usr/local/lib/python3.7/dist-packages (2.1.6)\n",
            "Requirement already satisfied: fasteners==0.15 in /usr/local/lib/python3.7/dist-packages (from free-mujoco-py) (0.15)\n",
            "Requirement already satisfied: glfw<2.0.0,>=1.4.0 in /usr/local/lib/python3.7/dist-packages (from free-mujoco-py) (1.12.0)\n",
            "Requirement already satisfied: numpy<2.0.0,>=1.21.3 in /usr/local/lib/python3.7/dist-packages (from free-mujoco-py) (1.21.5)\n",
            "Requirement already satisfied: imageio<3.0.0,>=2.9.0 in /usr/local/lib/python3.7/dist-packages (from free-mujoco-py) (2.14.1)\n",
            "Requirement already satisfied: cffi<2.0.0,>=1.15.0 in /usr/local/lib/python3.7/dist-packages (from free-mujoco-py) (1.15.0)\n",
            "Requirement already satisfied: Cython<0.30.0,>=0.29.24 in /usr/local/lib/python3.7/dist-packages (from free-mujoco-py) (0.29.26)\n",
            "Requirement already satisfied: monotonic>=0.1 in /usr/local/lib/python3.7/dist-packages (from fasteners==0.15->free-mujoco-py) (1.6)\n",
            "Requirement already satisfied: six in /usr/local/lib/python3.7/dist-packages (from fasteners==0.15->free-mujoco-py) (1.15.0)\n",
            "Requirement already satisfied: pycparser in /usr/local/lib/python3.7/dist-packages (from cffi<2.0.0,>=1.15.0->free-mujoco-py) (2.21)\n",
            "Requirement already satisfied: pillow>=8.3.2 in /usr/local/lib/python3.7/dist-packages (from imageio<3.0.0,>=2.9.0->free-mujoco-py) (9.0.0)\n"
          ]
        }
      ],
      "source": [
        "!pip install free-mujoco-py"
      ]
    },
    {
      "cell_type": "markdown",
      "metadata": {
        "id": "4rXEZlThAusv"
      },
      "source": [
        "Reload the Environment after Istalling "
      ]
    },
    {
      "cell_type": "code",
      "execution_count": null,
      "metadata": {
        "colab": {
          "base_uri": "https://localhost:8080/"
        },
        "id": "Ep5z3qUD32jR",
        "outputId": "22a91aad-9b69-486c-bdc8-6fb99cde4861"
      },
      "outputs": [
        {
          "output_type": "stream",
          "name": "stdout",
          "text": [
            "Reading package lists... Done\n",
            "Building dependency tree       \n",
            "Reading state information... Done\n",
            "The following additional packages will be installed:\n",
            "  libosmesa6\n",
            "The following NEW packages will be installed:\n",
            "  libosmesa6 libosmesa6-dev\n",
            "0 upgraded, 2 newly installed, 0 to remove and 37 not upgraded.\n",
            "Need to get 2,650 kB of archives.\n",
            "After this operation, 10.6 MB of additional disk space will be used.\n",
            "Get:1 http://archive.ubuntu.com/ubuntu bionic-updates/main amd64 libosmesa6 amd64 20.0.8-0ubuntu1~18.04.1 [2,641 kB]\n",
            "Get:2 http://archive.ubuntu.com/ubuntu bionic-updates/main amd64 libosmesa6-dev amd64 20.0.8-0ubuntu1~18.04.1 [8,828 B]\n",
            "Fetched 2,650 kB in 3s (940 kB/s)\n",
            "debconf: unable to initialize frontend: Dialog\n",
            "debconf: (No usable dialog-like program is installed, so the dialog based frontend cannot be used. at /usr/share/perl5/Debconf/FrontEnd/Dialog.pm line 76, <> line 2.)\n",
            "debconf: falling back to frontend: Readline\n",
            "debconf: unable to initialize frontend: Readline\n",
            "debconf: (This frontend requires a controlling tty.)\n",
            "debconf: falling back to frontend: Teletype\n",
            "dpkg-preconfigure: unable to re-open stdin: \n",
            "Selecting previously unselected package libosmesa6:amd64.\n",
            "(Reading database ... 155229 files and directories currently installed.)\n",
            "Preparing to unpack .../libosmesa6_20.0.8-0ubuntu1~18.04.1_amd64.deb ...\n",
            "Unpacking libosmesa6:amd64 (20.0.8-0ubuntu1~18.04.1) ...\n",
            "Selecting previously unselected package libosmesa6-dev:amd64.\n",
            "Preparing to unpack .../libosmesa6-dev_20.0.8-0ubuntu1~18.04.1_amd64.deb ...\n",
            "Unpacking libosmesa6-dev:amd64 (20.0.8-0ubuntu1~18.04.1) ...\n",
            "Setting up libosmesa6:amd64 (20.0.8-0ubuntu1~18.04.1) ...\n",
            "Setting up libosmesa6-dev:amd64 (20.0.8-0ubuntu1~18.04.1) ...\n",
            "Processing triggers for libc-bin (2.27-3ubuntu1.3) ...\n",
            "/sbin/ldconfig.real: /usr/local/lib/python3.7/dist-packages/ideep4py/lib/libmkldnn.so.0 is not a symbolic link\n",
            "\n"
          ]
        }
      ],
      "source": [
        "!sudo apt-get install libosmesa6-dev"
      ]
    },
    {
      "cell_type": "code",
      "execution_count": null,
      "metadata": {
        "colab": {
          "base_uri": "https://localhost:8080/"
        },
        "id": "uum5NL5A4UkG",
        "outputId": "23a8cd7e-2659-41e0-98c7-3e17114f33a1"
      },
      "outputs": [
        {
          "output_type": "stream",
          "name": "stdout",
          "text": [
            "Reading package lists... Done\n",
            "Building dependency tree       \n",
            "Reading state information... Done\n",
            "The following NEW packages will be installed:\n",
            "  patchelf\n",
            "0 upgraded, 1 newly installed, 0 to remove and 37 not upgraded.\n",
            "Need to get 46.5 kB of archives.\n",
            "After this operation, 130 kB of additional disk space will be used.\n",
            "Get:1 http://archive.ubuntu.com/ubuntu bionic/universe amd64 patchelf amd64 0.9-1 [46.5 kB]\n",
            "Fetched 46.5 kB in 1s (47.7 kB/s)\n",
            "debconf: unable to initialize frontend: Dialog\n",
            "debconf: (No usable dialog-like program is installed, so the dialog based frontend cannot be used. at /usr/share/perl5/Debconf/FrontEnd/Dialog.pm line 76, <> line 1.)\n",
            "debconf: falling back to frontend: Readline\n",
            "debconf: unable to initialize frontend: Readline\n",
            "debconf: (This frontend requires a controlling tty.)\n",
            "debconf: falling back to frontend: Teletype\n",
            "dpkg-preconfigure: unable to re-open stdin: \n",
            "Selecting previously unselected package patchelf.\n",
            "(Reading database ... 155248 files and directories currently installed.)\n",
            "Preparing to unpack .../patchelf_0.9-1_amd64.deb ...\n",
            "Unpacking patchelf (0.9-1) ...\n",
            "Setting up patchelf (0.9-1) ...\n",
            "Processing triggers for man-db (2.8.3-2ubuntu0.1) ...\n"
          ]
        }
      ],
      "source": [
        "!sudo apt-get install patchelf"
      ]
    },
    {
      "cell_type": "code",
      "execution_count": null,
      "metadata": {
        "colab": {
          "base_uri": "https://localhost:8080/"
        },
        "id": "b6jgf4I95DhV",
        "outputId": "40b91ece-8641-4ed4-9686-a44769d9c2d8"
      },
      "outputs": [
        {
          "output_type": "stream",
          "name": "stdout",
          "text": [
            "Collecting gtimer\n",
            "  Downloading gtimer-1.0.0b5.tar.gz (23 kB)\n",
            "Building wheels for collected packages: gtimer\n",
            "  Building wheel for gtimer (setup.py) ... \u001b[?25l\u001b[?25hdone\n",
            "  Created wheel for gtimer: filename=gtimer-1.0.0b5-py3-none-any.whl size=31065 sha256=8745505ec7e3ca0760434ff07baf1527f2329d38283a564fa06e04cc6f02d12c\n",
            "  Stored in directory: /root/.cache/pip/wheels/a4/5e/a4/dbc4ef5df2f8e7fc08340e353835b5d8cf644072ef9b8a65ac\n",
            "Successfully built gtimer\n",
            "Installing collected packages: gtimer\n",
            "Successfully installed gtimer-1.0.0b5\n"
          ]
        }
      ],
      "source": [
        "!pip install gtimer"
      ]
    },
    {
      "cell_type": "code",
      "execution_count": null,
      "metadata": {
        "id": "-hNvc2ReBgny",
        "outputId": "e20f7b65-b325-4a38-c818-5cde9df0273d",
        "colab": {
          "base_uri": "https://localhost:8080/"
        }
      },
      "outputs": [
        {
          "output_type": "stream",
          "name": "stdout",
          "text": [
            "['', '/env/python', '/usr/lib/python37.zip', '/usr/lib/python3.7', '/usr/lib/python3.7/lib-dynload', '/usr/local/lib/python3.7/dist-packages', '/usr/local/lib/python3.7/dist-packages/rand_param_envs-0.1-py3.7.egg', '/usr/local/lib/python3.7/dist-packages/nose-1.3.7-py3.7.egg', '/usr/lib/python3/dist-packages', '/content/drive/MyDrive/MetaRL-master3/rand_param_envs']\n"
          ]
        }
      ],
      "source": [
        "!python -c \"import sys; sys.path.append('/content/drive/MyDrive/MetaRL-master3/rand_param_envs');print(sys.path)\""
      ]
    },
    {
      "cell_type": "code",
      "execution_count": null,
      "metadata": {
        "id": "ZrWoW3_1Blzv"
      },
      "outputs": [],
      "source": [
        "!export PYTHONPATH=$PYTHONPATH:/content/drive/MyDrive/MetaRL-master_3/rand_param_envs"
      ]
    },
    {
      "cell_type": "code",
      "execution_count": null,
      "metadata": {
        "id": "L4Uh01QNBtEy",
        "outputId": "24c2143b-3f6e-4c91-e6f0-5b58b8998b8b",
        "colab": {
          "base_uri": "https://localhost:8080/"
        }
      },
      "outputs": [
        {
          "output_type": "stream",
          "name": "stdout",
          "text": [
            "running install\n",
            "running bdist_egg\n",
            "running egg_info\n",
            "writing rand_param_envs.egg-info/PKG-INFO\n",
            "writing dependency_links to rand_param_envs.egg-info/dependency_links.txt\n",
            "writing requirements to rand_param_envs.egg-info/requires.txt\n",
            "writing top-level names to rand_param_envs.egg-info/top_level.txt\n",
            "reading manifest file 'rand_param_envs.egg-info/SOURCES.txt'\n",
            "writing manifest file 'rand_param_envs.egg-info/SOURCES.txt'\n",
            "installing library code to build/bdist.linux-x86_64/egg\n",
            "running install_lib\n",
            "warning: install_lib: 'build/lib' does not exist -- no Python modules to install\n",
            "\n",
            "creating build/bdist.linux-x86_64/egg\n",
            "creating build/bdist.linux-x86_64/egg/EGG-INFO\n",
            "copying rand_param_envs.egg-info/PKG-INFO -> build/bdist.linux-x86_64/egg/EGG-INFO\n",
            "copying rand_param_envs.egg-info/SOURCES.txt -> build/bdist.linux-x86_64/egg/EGG-INFO\n",
            "copying rand_param_envs.egg-info/dependency_links.txt -> build/bdist.linux-x86_64/egg/EGG-INFO\n",
            "copying rand_param_envs.egg-info/not-zip-safe -> build/bdist.linux-x86_64/egg/EGG-INFO\n",
            "copying rand_param_envs.egg-info/requires.txt -> build/bdist.linux-x86_64/egg/EGG-INFO\n",
            "copying rand_param_envs.egg-info/top_level.txt -> build/bdist.linux-x86_64/egg/EGG-INFO\n",
            "creating 'dist/rand_param_envs-0.1-py3.7.egg' and adding 'build/bdist.linux-x86_64/egg' to it\n",
            "removing 'build/bdist.linux-x86_64/egg' (and everything under it)\n",
            "Processing rand_param_envs-0.1-py3.7.egg\n",
            "removing '/usr/local/lib/python3.7/dist-packages/rand_param_envs-0.1-py3.7.egg' (and everything under it)\n",
            "creating /usr/local/lib/python3.7/dist-packages/rand_param_envs-0.1-py3.7.egg\n",
            "Extracting rand_param_envs-0.1-py3.7.egg to /usr/local/lib/python3.7/dist-packages\n",
            "rand-param-envs 0.1 is already the active version in easy-install.pth\n",
            "\n",
            "Installed /usr/local/lib/python3.7/dist-packages/rand_param_envs-0.1-py3.7.egg\n",
            "Processing dependencies for rand-param-envs==0.1\n",
            "Searching for nose==1.3.7\n",
            "Best match: nose 1.3.7\n",
            "Processing nose-1.3.7-py3.7.egg\n",
            "nose 1.3.7 is already the active version in easy-install.pth\n",
            "Installing nosetests script to /usr/local/bin\n",
            "Installing nosetests-3.4 script to /usr/local/bin\n",
            "\n",
            "Using /usr/local/lib/python3.7/dist-packages/nose-1.3.7-py3.7.egg\n",
            "Searching for PyOpenGL==3.1.5\n",
            "Best match: PyOpenGL 3.1.5\n",
            "Adding PyOpenGL 3.1.5 to easy-install.pth file\n",
            "\n",
            "Using /usr/local/lib/python3.7/dist-packages\n",
            "Searching for scipy==1.4.1\n",
            "Best match: scipy 1.4.1\n",
            "Adding scipy 1.4.1 to easy-install.pth file\n",
            "\n",
            "Using /usr/local/lib/python3.7/dist-packages\n",
            "Searching for pyglet==1.5.0\n",
            "Best match: pyglet 1.5.0\n",
            "Adding pyglet 1.5.0 to easy-install.pth file\n",
            "\n",
            "Using /usr/local/lib/python3.7/dist-packages\n",
            "Searching for six==1.15.0\n",
            "Best match: six 1.15.0\n",
            "Adding six 1.15.0 to easy-install.pth file\n",
            "\n",
            "Using /usr/local/lib/python3.7/dist-packages\n",
            "Searching for requests==2.23.0\n",
            "Best match: requests 2.23.0\n",
            "Adding requests 2.23.0 to easy-install.pth file\n",
            "\n",
            "Using /usr/local/lib/python3.7/dist-packages\n",
            "Searching for numpy==1.21.5\n",
            "Best match: numpy 1.21.5\n",
            "Adding numpy 1.21.5 to easy-install.pth file\n",
            "Installing f2py script to /usr/local/bin\n",
            "Installing f2py3 script to /usr/local/bin\n",
            "Installing f2py3.7 script to /usr/local/bin\n",
            "\n",
            "Using /usr/local/lib/python3.7/dist-packages\n",
            "Searching for future==0.16.0\n",
            "Best match: future 0.16.0\n",
            "Adding future 0.16.0 to easy-install.pth file\n",
            "Installing futurize script to /usr/local/bin\n",
            "Installing pasteurize script to /usr/local/bin\n",
            "\n",
            "Using /usr/local/lib/python3.7/dist-packages\n",
            "Searching for urllib3==1.24.3\n",
            "Best match: urllib3 1.24.3\n",
            "Adding urllib3 1.24.3 to easy-install.pth file\n",
            "\n",
            "Using /usr/local/lib/python3.7/dist-packages\n",
            "Searching for certifi==2021.10.8\n",
            "Best match: certifi 2021.10.8\n",
            "Adding certifi 2021.10.8 to easy-install.pth file\n",
            "\n",
            "Using /usr/local/lib/python3.7/dist-packages\n",
            "Searching for idna==2.10\n",
            "Best match: idna 2.10\n",
            "Adding idna 2.10 to easy-install.pth file\n",
            "\n",
            "Using /usr/local/lib/python3.7/dist-packages\n",
            "Searching for chardet==3.0.4\n",
            "Best match: chardet 3.0.4\n",
            "Adding chardet 3.0.4 to easy-install.pth file\n",
            "Installing chardetect script to /usr/local/bin\n",
            "\n",
            "Using /usr/local/lib/python3.7/dist-packages\n",
            "Finished processing dependencies for rand-param-envs==0.1\n"
          ]
        }
      ],
      "source": [
        "!python /content/drive/MyDrive/MetaRL-master_3/rand_param_envs/setup.py install"
      ]
    },
    {
      "cell_type": "markdown",
      "metadata": {
        "id": "1j0paShelgGD"
      },
      "source": [
        "## Run experiment"
      ]
    },
    {
      "cell_type": "code",
      "execution_count": null,
      "metadata": {
        "colab": {
          "base_uri": "https://localhost:8080/"
        },
        "id": "-1Qm8y-nUkJD",
        "outputId": "96783cb2-8c16-451d-84ae-693dfd33d08f"
      },
      "outputs": [
        {
          "output_type": "stream",
          "name": "stdout",
          "text": [
            "/usr/local/lib/python3.7/dist-packages/gym/logger.py:30: UserWarning: \u001b[33mWARN: Box bound precision lowered by casting to float32\u001b[0m\n",
            "  warnings.warn(colorize('%s: %s'%('WARN', msg % args), 'yellow'))\n",
            "2022-01-28 12:34:13.547263 UTC | Variant:\n",
            "2022-01-28 12:34:13.547582 UTC | {\n",
            "  \"env_name\": \"ant-dir\",\n",
            "  \"n_train_tasks\": 2,\n",
            "  \"n_eval_tasks\": 2,\n",
            "  \"latent_size\": 5,\n",
            "  \"net_size\": 300,\n",
            "  \"path_to_weights\": null,\n",
            "  \"env_params\": {\n",
            "    \"n_tasks\": 2,\n",
            "    \"randomize_tasks\": true\n",
            "  },\n",
            "  \"algo_params\": {\n",
            "    \"meta_batch\": 4,\n",
            "    \"num_iterations\": 500,\n",
            "    \"num_initial_steps\": 2000,\n",
            "    \"num_tasks_sample\": 5,\n",
            "    \"num_steps_prior\": 400,\n",
            "    \"num_steps_posterior\": 0,\n",
            "    \"num_extra_rl_steps_posterior\": 600,\n",
            "    \"num_train_steps_per_itr\": 4000,\n",
            "    \"num_evals\": 4,\n",
            "    \"num_steps_per_eval\": 600,\n",
            "    \"batch_size\": 256,\n",
            "    \"embedding_batch_size\": 256,\n",
            "    \"embedding_mini_batch_size\": 256,\n",
            "    \"max_path_length\": 200,\n",
            "    \"discount\": 0.99,\n",
            "    \"soft_target_tau\": 0.005,\n",
            "    \"policy_lr\": 0.0003,\n",
            "    \"qf_lr\": 0.0003,\n",
            "    \"vf_lr\": 0.0003,\n",
            "    \"context_lr\": 0.0003,\n",
            "    \"reward_scale\": 5.0,\n",
            "    \"sparse_rewards\": false,\n",
            "    \"kl_lambda\": 0.1,\n",
            "    \"use_information_bottleneck\": true,\n",
            "    \"use_next_obs_in_context\": false,\n",
            "    \"update_post_train\": 1,\n",
            "    \"num_exp_traj_eval\": 2,\n",
            "    \"recurrent\": false,\n",
            "    \"dump_eval_paths\": false\n",
            "  },\n",
            "  \"util_params\": {\n",
            "    \"base_log_dir\": \"output\",\n",
            "    \"use_gpu\": true,\n",
            "    \"gpu_id\": 0,\n",
            "    \"debug\": false,\n",
            "    \"docker\": false\n",
            "  }\n",
            "}\n",
            "collecting initial pool of data for train and eval\n",
            "----------------------------------  --------------\n",
            "Z mean train                           0.00232597\n",
            "Z variance train                       0.0027119\n",
            "KL Divergence                         49.1281\n",
            "KL Loss                                4.91281\n",
            "QF Loss                               54.6453\n",
            "VF Loss                               28.9953\n",
            "Policy Loss                           -5.34834\n",
            "Q Predictions Mean                    -0.00371502\n",
            "Q Predictions Std                      0.00203495\n",
            "Q Predictions Max                      0.00312009\n",
            "Q Predictions Min                     -0.00971467\n",
            "V Predictions Mean                    -0.000228476\n",
            "V Predictions Std                      0.00218624\n",
            "V Predictions Max                      0.00588744\n",
            "V Predictions Min                     -0.00654682\n",
            "Log Pis Mean                          -5.37029\n",
            "Log Pis Std                            0.62293\n",
            "Log Pis Max                           -3.5515\n",
            "Log Pis Min                           -7.71501\n",
            "Policy mu Mean                        -0.000329434\n",
            "Policy mu Std                          0.00128407\n",
            "Policy mu Max                          0.00368113\n",
            "Policy mu Min                         -0.00441397\n",
            "Policy log std Mean                    0.000137272\n",
            "Policy log std Std                     0.00176977\n",
            "Policy log std Max                     0.00533877\n",
            "Policy log std Min                    -0.00372559\n",
            "Z mean eval                            0.0356945\n",
            "Z variance eval                        0.0392825\n",
            "AverageTrainReturn_all_train_tasks   124.369\n",
            "AverageReturn_all_train_tasks        126.173\n",
            "AverageReturn_all_test_tasks         130.647\n",
            "Number of train steps total         4000\n",
            "Number of env steps total           9864\n",
            "Number of rollouts total               0\n",
            "Train Time (s)                       172.35\n",
            "(Previous) Eval Time (s)               0\n",
            "Sample Time (s)                       17.7043\n",
            "Epoch Time (s)                       190.055\n",
            "Total Train Time (s)                 206.56\n",
            "Epoch                                  0\n",
            "----------------------------------  --------------\n",
            "2022-01-28 12:37:40.125516 UTC | [2022_01_28_12_34_13] Iteration #0 | Epoch Duration: 206.56255102157593\n",
            "2022-01-28 12:37:40.125666 UTC | [2022_01_28_12_34_13] Iteration #0 | Started Training: True\n",
            "\n",
            "Aborted!\n",
            "Exception ignored in: <module 'threading' from '/usr/lib/python3.7/threading.py'>\n",
            "Traceback (most recent call last):\n",
            "  File \"/usr/lib/python3.7/threading.py\", line 1274, in _shutdown\n",
            "    def _shutdown():\n",
            "KeyboardInterrupt\n"
          ]
        }
      ],
      "source": [
        "!python /content/drive/MyDrive/MetaRL-master_3/launch_experiment.py /content/drive/MyDrive/MetaRL-master_3/configs/ant-dir.json"
      ]
    },
    {
      "cell_type": "code",
      "source": [
        ""
      ],
      "metadata": {
        "id": "_hhJ76FxocqB"
      },
      "execution_count": null,
      "outputs": []
    }
  ],
  "metadata": {
    "colab": {
      "collapsed_sections": [],
      "name": "Kopie von launch_experiment_notebook.ipynb",
      "provenance": [],
      "include_colab_link": true
    },
    "kernelspec": {
      "display_name": "Python 3",
      "name": "python3"
    },
    "language_info": {
      "name": "python"
    },
    "accelerator": "GPU"
  },
  "nbformat": 4,
  "nbformat_minor": 0
}